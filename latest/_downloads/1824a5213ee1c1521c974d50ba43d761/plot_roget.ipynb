{
  "cells": [
    {
      "cell_type": "code",
      "execution_count": null,
      "metadata": {
        "collapsed": false
      },
      "outputs": [],
      "source": [
        "%matplotlib inline"
      ]
    },
    {
      "cell_type": "markdown",
      "metadata": {},
      "source": [
        "\n# Roget\n\n\nBuild a directed graph of 1022 categories and\n5075 cross-references as defined in the 1879 version of Roget's Thesaurus\ncontained in the datafile roget_dat.txt. This example is described in\nSection 1.2 in Knuth's book (see [1]_ and [2]_).\n\nNote that one of the 5075 cross references is a self loop yet\nit is included in the graph built here because\nthe standard networkx `DiGraph` class allows self loops.\n(cf. 400pungency:400 401 403 405).\n\nReferences\n----------\n\n.. [1] Donald E. Knuth,\n   \"The Stanford GraphBase: A Platform for Combinatorial Computing\",\n   ACM Press, New York, 1993.\n.. [2] http://www-cs-faculty.stanford.edu/~knuth/sgb.html\n"
      ]
    },
    {
      "cell_type": "code",
      "execution_count": null,
      "metadata": {
        "collapsed": false
      },
      "outputs": [],
      "source": [
        "import gzip\nimport re\nimport sys\n\nimport matplotlib.pyplot as plt\nfrom networkx import nx\n\n\ndef roget_graph():\n    \"\"\" Return the thesaurus graph from the roget.dat example in\n    the Stanford Graph Base.\n    \"\"\"\n    # open file roget_dat.txt.gz (or roget_dat.txt)\n    fh = gzip.open(\"roget_dat.txt.gz\", \"r\")\n\n    G = nx.DiGraph()\n\n    for line in fh.readlines():\n        line = line.decode()\n        if line.startswith(\"*\"):  # skip comments\n            continue\n        if line.startswith(\" \"):  # this is a continuation line, append\n            line = oldline + line\n        if line.endswith(\"\\\\\\n\"):  # continuation line, buffer, goto next\n            oldline = line.strip(\"\\\\\\n\")\n            continue\n\n        (headname, tails) = line.split(\":\")\n\n        # head\n        numfind = re.compile(\"^\\d+\")  # re to find the number of this word\n        head = numfind.findall(headname)[0]  # get the number\n\n        G.add_node(head)\n\n        for tail in tails.split():\n            if head == tail:\n                print(\"skipping self loop\", head, tail, file=sys.stderr)\n            G.add_edge(head, tail)\n\n    return G\n\n\nG = roget_graph()\nprint(\"Loaded roget_dat.txt containing 1022 categories.\")\nprint(f\"digraph has {nx.number_of_nodes(G)} nodes with {nx.number_of_edges(G)} edges\")\nUG = G.to_undirected()\nprint(nx.number_connected_components(UG), \"connected components\")\n\noptions = {\n    \"node_color\": \"black\",\n    \"node_size\": 1,\n    \"line_color\": \"grey\",\n    \"linewidths\": 0,\n    \"width\": 0.1,\n}\nnx.draw_circular(UG, **options)\nplt.show()"
      ]
    }
  ],
  "metadata": {
    "kernelspec": {
      "display_name": "Python 3",
      "language": "python",
      "name": "python3"
    },
    "language_info": {
      "codemirror_mode": {
        "name": "ipython",
        "version": 3
      },
      "file_extension": ".py",
      "mimetype": "text/x-python",
      "name": "python",
      "nbconvert_exporter": "python",
      "pygments_lexer": "ipython3",
      "version": "3.7.1"
    }
  },
  "nbformat": 4,
  "nbformat_minor": 0
}