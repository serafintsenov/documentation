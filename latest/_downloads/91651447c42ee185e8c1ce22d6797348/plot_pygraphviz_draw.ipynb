{
  "cells": [
    {
      "cell_type": "code",
      "execution_count": null,
      "metadata": {
        "collapsed": false
      },
      "outputs": [],
      "source": [
        "%matplotlib inline"
      ]
    },
    {
      "cell_type": "markdown",
      "metadata": {},
      "source": [
        "\n# Pygraphviz Draw\n\n\nAn example showing how to use the interface to the pygraphviz\nAGraph class to draw a graph.\n\nAlso see the pygraphviz documentation and examples at\nhttp://pygraphviz.github.io/\n"
      ]
    },
    {
      "cell_type": "code",
      "execution_count": null,
      "metadata": {
        "collapsed": false
      },
      "outputs": [],
      "source": [
        "import networkx as nx\n\n# plain graph\nG = nx.complete_graph(5)  # start with K5 in networkx\nA = nx.nx_agraph.to_agraph(G)  # convert to a graphviz graph\nA.layout()  # neato layout\nA.draw(\"k5.ps\")  # write postscript in k5.ps with neato layout"
      ]
    }
  ],
  "metadata": {
    "kernelspec": {
      "display_name": "Python 3",
      "language": "python",
      "name": "python3"
    },
    "language_info": {
      "codemirror_mode": {
        "name": "ipython",
        "version": 3
      },
      "file_extension": ".py",
      "mimetype": "text/x-python",
      "name": "python",
      "nbconvert_exporter": "python",
      "pygments_lexer": "ipython3",
      "version": "3.7.1"
    }
  },
  "nbformat": 4,
  "nbformat_minor": 0
}