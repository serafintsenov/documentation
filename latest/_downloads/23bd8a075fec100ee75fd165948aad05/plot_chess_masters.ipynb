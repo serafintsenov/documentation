{
  "cells": [
    {
      "cell_type": "code",
      "execution_count": null,
      "metadata": {
        "collapsed": false
      },
      "outputs": [],
      "source": [
        "%matplotlib inline"
      ]
    },
    {
      "cell_type": "markdown",
      "metadata": {},
      "source": [
        "\n# Chess Masters\n\n\nAn example of the MultiDiGraph clas\n\nThe function chess_pgn_graph reads a collection of chess matches stored in the\nspecified PGN file (PGN =\"Portable Game Notation\").  Here the (compressed)\ndefault file::\n\n    chess_masters_WCC.pgn.bz2\n\ncontains all 685 World Chess Championship matches from 1886--1985.\n(data from http://chessproblem.my-free-games.com/chess/games/Download-PGN.php)\n\nThe `chess_pgn_graph()` function returns a `MultiDiGraph` with multiple edges.\nEach node is the last name of a chess master. Each edge is directed from white\nto black and contains selected game info.\n\nThe key statement in `chess_pgn_graph` below is::\n\n    G.add_edge(white, black, game_info)\n\nwhere `game_info` is a `dict` describing each game.\n"
      ]
    },
    {
      "cell_type": "code",
      "execution_count": null,
      "metadata": {
        "collapsed": false
      },
      "outputs": [],
      "source": [
        "import matplotlib.pyplot as plt\nimport networkx as nx\n\n# tag names specifying what game info should be\n# stored in the dict on each digraph edge\ngame_details = [\"Event\", \"Date\", \"Result\", \"ECO\", \"Site\"]\n\n\ndef chess_pgn_graph(pgn_file=\"chess_masters_WCC.pgn.bz2\"):\n    \"\"\"Read chess games in pgn format in pgn_file.\n\n    Filenames ending in .gz or .bz2 will be uncompressed.\n\n    Return the MultiDiGraph of players connected by a chess game.\n    Edges contain game data in a dict.\n\n    \"\"\"\n    import bz2\n\n    G = nx.MultiDiGraph()\n    game = {}\n    datafile = bz2.BZ2File(pgn_file)\n    lines = (line.decode().rstrip(\"\\r\\n\") for line in datafile)\n    for line in lines:\n        if line.startswith(\"[\"):\n            tag, value = line[1:-1].split(\" \", 1)\n            game[str(tag)] = value.strip('\"')\n        else:\n            # empty line after tag set indicates\n            # we finished reading game info\n            if game:\n                white = game.pop(\"White\")\n                black = game.pop(\"Black\")\n                G.add_edge(white, black, **game)\n                game = {}\n    return G\n\n\nG = chess_pgn_graph()\n\nngames = G.number_of_edges()\nnplayers = G.number_of_nodes()\n\nprint(f\"Loaded {ngames} chess games between {nplayers} players\\n\")\n\n# identify connected components\n# of the undirected version\nH = G.to_undirected()\nGcc = [H.subgraph(c) for c in nx.connected_components(H)]\nif len(Gcc) > 1:\n    print(\"Note the disconnected component consisting of:\")\n    print(Gcc[1].nodes())\n\n# find all games with B97 opening (as described in ECO)\nopenings = {game_info[\"ECO\"] for (white, black, game_info) in G.edges(data=True)}\nprint(f\"\\nFrom a total of {len(openings)} different openings,\")\nprint(\"the following games used the Sicilian opening\")\nprint('with the Najdorff 7...Qb6 \"Poisoned Pawn\" variation.\\n')\n\nfor (white, black, game_info) in G.edges(data=True):\n    if game_info[\"ECO\"] == \"B97\":\n        print(white, \"vs\", black)\n        for k, v in game_info.items():\n            print(\"   \", k, \": \", v)\n        print(\"\\n\")\n\n# make new undirected graph H without multi-edges\nH = nx.Graph(G)\n\n# edge width is proportional number of games played\nedgewidth = []\nfor (u, v, d) in H.edges(data=True):\n    edgewidth.append(len(G.get_edge_data(u, v)))\n\n# node size is proportional to number of games won\nwins = dict.fromkeys(G.nodes(), 0.0)\nfor (u, v, d) in G.edges(data=True):\n    r = d[\"Result\"].split(\"-\")\n    if r[0] == \"1\":\n        wins[u] += 1.0\n    elif r[0] == \"1/2\":\n        wins[u] += 0.5\n        wins[v] += 0.5\n    else:\n        wins[v] += 1.0\ntry:\n    pos = nx.nx_agraph.graphviz_layout(H)\nexcept ImportError:\n    pos = nx.spring_layout(H, iterations=20)\n\nplt.rcParams[\"text.usetex\"] = False\nplt.figure(figsize=(8, 8))\nnx.draw_networkx_edges(H, pos, alpha=0.3, width=edgewidth, edge_color=\"m\")\nnodesize = [wins[v] * 50 for v in H]\nnx.draw_networkx_nodes(H, pos, node_size=nodesize, node_color=\"w\", alpha=0.4)\nnx.draw_networkx_edges(H, pos, alpha=0.4, node_size=0, width=1, edge_color=\"k\")\nnx.draw_networkx_labels(H, pos, fontsize=14)\nfont = {\"fontname\": \"Helvetica\", \"color\": \"k\", \"fontweight\": \"bold\", \"fontsize\": 14}\nplt.title(\"World Chess Championship Games: 1886 - 1985\", font)\n\n# change font and write text (using data coordinates)\nfont = {\"fontname\": \"Helvetica\", \"color\": \"r\", \"fontweight\": \"bold\", \"fontsize\": 14}\n\nplt.text(\n    0.5,\n    0.97,\n    \"edge width = # games played\",\n    horizontalalignment=\"center\",\n    transform=plt.gca().transAxes,\n)\nplt.text(\n    0.5,\n    0.94,\n    \"node size = # games won\",\n    horizontalalignment=\"center\",\n    transform=plt.gca().transAxes,\n)\n\nplt.axis(\"off\")\nplt.show()"
      ]
    }
  ],
  "metadata": {
    "kernelspec": {
      "display_name": "Python 3",
      "language": "python",
      "name": "python3"
    },
    "language_info": {
      "codemirror_mode": {
        "name": "ipython",
        "version": 3
      },
      "file_extension": ".py",
      "mimetype": "text/x-python",
      "name": "python",
      "nbconvert_exporter": "python",
      "pygments_lexer": "ipython3",
      "version": "3.7.1"
    }
  },
  "nbformat": 4,
  "nbformat_minor": 0
}