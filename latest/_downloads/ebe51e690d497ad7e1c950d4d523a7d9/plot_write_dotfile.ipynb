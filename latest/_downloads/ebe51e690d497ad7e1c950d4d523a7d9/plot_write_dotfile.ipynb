{
  "cells": [
    {
      "cell_type": "code",
      "execution_count": null,
      "metadata": {
        "collapsed": false
      },
      "outputs": [],
      "source": [
        "%matplotlib inline"
      ]
    },
    {
      "cell_type": "markdown",
      "metadata": {},
      "source": [
        "\n# Write Dotfile\n\n\n\nWrite a dot file from a networkx graph for further processing with graphviz.\n\nYou need to have either pygraphviz or pydot for this example.\n\nSee https://networkx.github.io/documentation/latest/reference/drawing.html\n"
      ]
    },
    {
      "cell_type": "code",
      "execution_count": null,
      "metadata": {
        "collapsed": false
      },
      "outputs": [],
      "source": [
        "import networkx as nx\n\n# This example needs Graphviz and either PyGraphviz or pydot.\n# from networkx.drawing.nx_pydot import write_dot\nfrom networkx.drawing.nx_agraph import write_dot\n\n\nG = nx.grid_2d_graph(5, 5)  # 5x5 grid\nwrite_dot(G, \"grid.dot\")\nprint(\"Now run: neato -Tps grid.dot >grid.ps\")"
      ]
    }
  ],
  "metadata": {
    "kernelspec": {
      "display_name": "Python 3",
      "language": "python",
      "name": "python3"
    },
    "language_info": {
      "codemirror_mode": {
        "name": "ipython",
        "version": 3
      },
      "file_extension": ".py",
      "mimetype": "text/x-python",
      "name": "python",
      "nbconvert_exporter": "python",
      "pygments_lexer": "ipython3",
      "version": "3.7.1"
    }
  },
  "nbformat": 4,
  "nbformat_minor": 0
}