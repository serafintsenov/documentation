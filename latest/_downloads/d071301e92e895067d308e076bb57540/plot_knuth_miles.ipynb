{
  "cells": [
    {
      "cell_type": "code",
      "execution_count": null,
      "metadata": {
        "collapsed": false
      },
      "outputs": [],
      "source": [
        "%matplotlib inline"
      ]
    },
    {
      "cell_type": "markdown",
      "metadata": {},
      "source": [
        "\n# Knuth Miles\n\n\n`miles_graph()` returns an undirected graph over the 128 US cities from.  The\ncities each have location and population data.  The edges are labeled with the\ndistance between the two cities.\n\nThis example is described in Section 1.1 of\n\n    Donald E. Knuth, \"The Stanford GraphBase: A Platform for Combinatorial\n    Computing\", ACM Press, New York, 1993.\n    http://www-cs-faculty.stanford.edu/~knuth/sgb.html\n\nThe data file can be found at:\n\n- https://github.com/networkx/networkx/blob/master/examples/drawing/knuth_miles.txt.gz\n"
      ]
    },
    {
      "cell_type": "code",
      "execution_count": null,
      "metadata": {
        "collapsed": false
      },
      "outputs": [],
      "source": [
        "import gzip\nimport re\n\nimport matplotlib.pyplot as plt\nimport networkx as nx\n\n\ndef miles_graph():\n    \"\"\" Return the cites example graph in miles_dat.txt\n        from the Stanford GraphBase.\n    \"\"\"\n    # open file miles_dat.txt.gz (or miles_dat.txt)\n\n    fh = gzip.open(\"knuth_miles.txt.gz\", \"r\")\n\n    G = nx.Graph()\n    G.position = {}\n    G.population = {}\n\n    cities = []\n    for line in fh.readlines():\n        line = line.decode()\n        if line.startswith(\"*\"):  # skip comments\n            continue\n\n        numfind = re.compile(r\"^\\d+\")\n\n        if numfind.match(line):  # this line is distances\n            dist = line.split()\n            for d in dist:\n                G.add_edge(city, cities[i], weight=int(d))\n                i = i + 1\n        else:  # this line is a city, position, population\n            i = 1\n            (city, coordpop) = line.split(\"[\")\n            cities.insert(0, city)\n            (coord, pop) = coordpop.split(\"]\")\n            (y, x) = coord.split(\",\")\n\n            G.add_node(city)\n            # assign position - flip x axis for matplotlib, shift origin\n            G.position[city] = (-int(x) + 7500, int(y) - 3000)\n            G.population[city] = float(pop) / 1000.0\n    return G\n\n\nG = miles_graph()\n\nprint(\"Loaded miles_dat.txt containing 128 cities.\")\nprint(f\"digraph has {nx.number_of_nodes(G)} nodes with {nx.number_of_edges(G)} edges\")\n\n# make new graph of cites, edge if less then 300 miles between them\nH = nx.Graph()\nfor v in G:\n    H.add_node(v)\nfor (u, v, d) in G.edges(data=True):\n    if d[\"weight\"] < 300:\n        H.add_edge(u, v)\n\n# draw with matplotlib/pylab\nplt.figure(figsize=(8, 8))\n# with nodes colored by degree sized by population\nnode_color = [float(H.degree(v)) for v in H]\nnx.draw(\n    H,\n    G.position,\n    node_size=[G.population[v] for v in H],\n    node_color=node_color,\n    with_labels=False,\n)\n\n# scale the axes equally\nplt.xlim(-5000, 500)\nplt.ylim(-2000, 3500)\n\nplt.show()"
      ]
    }
  ],
  "metadata": {
    "kernelspec": {
      "display_name": "Python 3",
      "language": "python",
      "name": "python3"
    },
    "language_info": {
      "codemirror_mode": {
        "name": "ipython",
        "version": 3
      },
      "file_extension": ".py",
      "mimetype": "text/x-python",
      "name": "python",
      "nbconvert_exporter": "python",
      "pygments_lexer": "ipython3",
      "version": "3.7.1"
    }
  },
  "nbformat": 4,
  "nbformat_minor": 0
}